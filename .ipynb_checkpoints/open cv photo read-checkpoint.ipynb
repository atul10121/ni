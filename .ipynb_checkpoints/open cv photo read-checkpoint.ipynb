{
 "cells": [
  {
   "cell_type": "code",
   "execution_count": 1,
   "metadata": {},
   "outputs": [
    {
     "name": "stdout",
     "output_type": "stream",
     "text": [
      "Collecting pafy\n",
      "  Downloading pafy-0.5.5-py2.py3-none-any.whl (35 kB)\n",
      "Installing collected packages: pafy\n",
      "Successfully installed pafy-0.5.5\n",
      "Collecting imutils\n",
      "  Downloading imutils-0.5.3.tar.gz (17 kB)\n",
      "Requirement already satisfied: pafy in /home/ni/miniconda3/lib/python3.7/site-packages (0.5.5)\n",
      "Collecting youtube-dl\n",
      "  Downloading youtube_dl-2020.6.16.1-py2.py3-none-any.whl (1.8 MB)\n",
      "\u001b[K     |████████████████████████████████| 1.8 MB 137 kB/s eta 0:00:01     |███████████████████████████████▊| 1.8 MB 137 kB/s eta 0:00:01\n",
      "\u001b[?25hBuilding wheels for collected packages: imutils\n",
      "  Building wheel for imutils (setup.py) ... \u001b[?25ldone\n",
      "\u001b[?25h  Created wheel for imutils: filename=imutils-0.5.3-py3-none-any.whl size=25850 sha256=756f65c7b35d5c4a80062a000670bbd8976c1ee56ca68ae81e5b250217febd96\n",
      "  Stored in directory: /home/ni/.cache/pip/wheels/fc/9c/6d/1826267c72afa51b564c9c6e0f66abc806879338bc593a2270\n",
      "Successfully built imutils\n",
      "Installing collected packages: imutils, youtube-dl\n",
      "Successfully installed imutils-0.5.3 youtube-dl-2020.6.16.1\n"
     ]
    }
   ],
   "source": [
    "#from google.colab import drive\n",
    "#drive.mount('/content/drive')\n",
    "\n",
    "\n",
    "\n",
    "!pip install pafy\n",
    "!pip install imutils pafy youtube-dl"
   ]
  },
  {
   "cell_type": "code",
   "execution_count": 2,
   "metadata": {},
   "outputs": [],
   "source": [
    "import imutils\n",
    "import cv2\n",
    "import pafy\n",
    "import youtube_dl"
   ]
  },
  {
   "cell_type": "code",
   "execution_count": 3,
   "metadata": {},
   "outputs": [],
   "source": [
    "url = \"https://www.youtube.com/watch?v=hoNb6HuNmU0\"\n",
    "vPafy = pafy.new(url)\n",
    "\n",
    "play = vPafy.getbest(preftype=\"mp4\")"
   ]
  },
  {
   "cell_type": "code",
   "execution_count": null,
   "metadata": {},
   "outputs": [],
   "source": [
    "\n",
    "\n",
    "face_dect = cv2.CascadeClassifier(\"haarcascade_frontalface_default.xml\")\n",
    "\n",
    "\n",
    "img = cv2.imread(\"me.jpg\")\n",
    "size= cv2.resize(img, (int (img.shape[1]/4), int (img.shape[1]/4)))  # imgage size is reduced by 4 \n",
    "\n",
    "gimg = cv2.cvtColor(size,cv2.COLOR_BGR2GRAY)\n",
    "\n",
    "faces = face_dect.detectMultiScale(gimg, scaleFactor =1.05, minNeighbors=5)\n",
    "\n",
    "for x,y,w,h in faces:\n",
    "    size = cv2.rectangle(size, (x,y), (x+w,y+h), (0,255,0),2)\n",
    "    \n",
    "\n",
    "\n",
    "cv2.imshow(\"photo\", size)\n",
    "\n",
    "cv2.waitKey(0)\n",
    "\n",
    "cv2.destroyAllWindows()\n"
   ]
  },
  {
   "cell_type": "code",
   "execution_count": 8,
   "metadata": {},
   "outputs": [
    {
     "name": "stdout",
     "output_type": "stream",
     "text": [
      "True\n"
     ]
    }
   ],
   "source": [
    "cap = cv2.VideoCapture(play.url)\n",
    "print(cap.isOpened()) # if in cap we have entered wrong file path then it will give false else true\n",
    "while(cap.isOpened()):    # TO CAPTURE FRAMES OF CAMERA TO VIEW AS VIDEO \n",
    "  #  print(cap.get(cv2.CAP_PROP_FRAME_HEIGHT)) # TO PRINT HEIGHT or property OF THE FRAME \n",
    "  #  print(cap.get(cv2.CAP_PROP_FRAME_WIDTH)) # TO PRINT WIDTHE OF THE FRAME \n",
    "    face_dec = cv2.CascadeClassifier(\"haarcascade_frontalface_default.xml\")\n",
    "\n",
    "    ret, frame= cap.read()\n",
    "    gray = cv2.cvtColor(frame, cv2.COLOR_BGR2GRAY) # here i am printing gray image as output\n",
    "    faces = face_dec.detectMultiScale(gray, scaleFactor =1.05, minNeighbors=5)\n",
    "\n",
    "    for x,y,w,h in faces:\n",
    "        gray = cv2.rectangle(gray, (x,y), (x+w,y+h), (0,255,0),2)\n",
    "        cv2.imshow(\"camera\", gray)\n",
    "    if cv2.waitKey(1) == 13:  #13 is the asci code of enter key\n",
    "        break\n",
    "cap.release()\n",
    "cv2.destroyAllWindows()"
   ]
  },
  {
   "cell_type": "code",
   "execution_count": 4,
   "metadata": {},
   "outputs": [],
   "source": [
    "import numpy as np"
   ]
  },
  {
   "cell_type": "code",
   "execution_count": 7,
   "metadata": {},
   "outputs": [
    {
     "name": "stdout",
     "output_type": "stream",
     "text": [
      "True\n"
     ]
    }
   ],
   "source": [
    "cap = cv2.VideoCapture(play.url)\n",
    "\n",
    "ret, frame1 =cap.read()\n",
    "ret, frame2 =cap.read()\n",
    "\n",
    "\n",
    "print(cap.isOpened())\n",
    "while(cap.isOpened()):\n",
    "    diff = cv2.absdiff(frame1,frame2)\n",
    "    gray = cv2.cvtColor(diff, cv2.COLOR_BGR2GRAY)\n",
    "    blur = cv2.GaussianBlur(gray,(5,5), 0)\n",
    "    _,thresh = cv2.threshold(blur,20,255,cv2.THRESH_BINARY)\n",
    "    dilated =cv2.dilate(thresh,None, iterations=3)\n",
    "    contours,_= cv2.findContours(dilated,cv2.RETR_TREE, cv2.CHAIN_APPROX_SIMPLE)\n",
    "    \n",
    "    \n",
    "    for contour in contours:\n",
    "        (x,y,w,h) = cv2.boundingRect(contour)\n",
    "        if cv2.contourArea(contour)< 2000:\n",
    "            continue\n",
    "        cv2.rectangle(frame1, (x,y), (x+w,y+h),(0,255,0),2)\n",
    "        cv2.putText(frame1, \"Status:{}\".format('Movement'), (10,20), cv2.FONT_HERSHEY_SIMPLEX, 1, (0,0,255),2)\n",
    "    #cv2.drawContours(frame1, contours, -1, (0,255,0), 2)\n",
    "    \n",
    "    cv2.imshow(\"feed\", frame1)\n",
    "    \n",
    "    frame1 = frame2\n",
    "    ret, frame2 = cap.read()\n",
    "    if cv2.waitKey(1) == 13:\n",
    "        break\n",
    "cap.release()\n",
    "cv2.destroyAllWindows()"
   ]
  },
  {
   "cell_type": "code",
   "execution_count": null,
   "metadata": {},
   "outputs": [],
   "source": []
  }
 ],
 "metadata": {
  "kernelspec": {
   "display_name": "Python 3",
   "language": "python",
   "name": "python3"
  },
  "language_info": {
   "codemirror_mode": {
    "name": "ipython",
    "version": 3
   },
   "file_extension": ".py",
   "mimetype": "text/x-python",
   "name": "python",
   "nbconvert_exporter": "python",
   "pygments_lexer": "ipython3",
   "version": "3.7.6"
  }
 },
 "nbformat": 4,
 "nbformat_minor": 4
}
