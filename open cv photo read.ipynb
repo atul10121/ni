{
 "cells": [
  {
   "cell_type": "code",
   "execution_count": 1,
   "metadata": {},
   "outputs": [],
   "source": [
    "import cv2"
   ]
  },
  {
   "cell_type": "code",
   "execution_count": null,
   "metadata": {},
   "outputs": [],
   "source": [
    "\n",
    "\n",
    "face_dect = cv2.CascadeClassifier(\"haarcascade_frontalface_default.xml\")\n",
    "\n",
    "\n",
    "img = cv2.imread(\"me.jpg\")\n",
    "size= cv2.resize(img, (int (img.shape[1]/4), int (img.shape[1]/4)))  # imgage size is reduced by 4 \n",
    "\n",
    "gimg = cv2.cvtColor(size,cv2.COLOR_BGR2GRAY)\n",
    "\n",
    "faces = face_dect.detectMultiScale(gimg, scaleFactor =1.05, minNeighbors=5)\n",
    "\n",
    "for x,y,w,h in faces:\n",
    "    size = cv2.rectangle(size, (x,y), (x+w,y+h), (0,255,0),2)\n",
    "    \n",
    "\n",
    "\n",
    "cv2.imshow(\"photo\", size)\n",
    "\n",
    "cv2.waitKey(0)\n",
    "\n",
    "cv2.destroyAllWindows()\n"
   ]
  },
  {
   "cell_type": "code",
   "execution_count": 4,
   "metadata": {},
   "outputs": [
    {
     "name": "stdout",
     "output_type": "stream",
     "text": [
      "True\n"
     ]
    }
   ],
   "source": [
    "cap = cv2.VideoCapture(0)\n",
    "print(cap.isOpened()) # if in cap we have entered wrong file path then it will give false else true\n",
    "while(cap.isOpened()):    # TO CAPTURE FRAMES OF CAMERA TO VIEW AS VIDEO \n",
    "  #  print(cap.get(cv2.CAP_PROP_FRAME_HEIGHT)) # TO PRINT HEIGHT or property OF THE FRAME \n",
    "  #  print(cap.get(cv2.CAP_PROP_FRAME_WIDTH)) # TO PRINT WIDTHE OF THE FRAME \n",
    "    face_dec = cv2.CascadeClassifier(\"haarcascade_frontalface_default.xml\")\n",
    "\n",
    "    ret, frame= cap.read()\n",
    "    gray = cv2.cvtColor(frame, cv2.COLOR_BGR2GRAY) # here i am printing gray image as output\n",
    "    faces = face_dec.detectMultiScale(gray, scaleFactor =1.05, minNeighbors=5)\n",
    "\n",
    "    for x,y,w,h in faces:\n",
    "        frame = cv2.rectangle(frame, (x,y), (x+w,y+h), (0,255,0),2)\n",
    "        cv2.imshow(\"camera\", frame)\n",
    "    if cv2.waitKey(1) == 13:  #13 is the asci code of enter key\n",
    "        break\n",
    "cap.release()\n",
    "cv2.destroyAllWindows()"
   ]
  },
  {
   "cell_type": "code",
   "execution_count": null,
   "metadata": {},
   "outputs": [],
   "source": []
  },
  {
   "cell_type": "code",
   "execution_count": null,
   "metadata": {},
   "outputs": [],
   "source": []
  }
 ],
 "metadata": {
  "kernelspec": {
   "display_name": "Python 3",
   "language": "python",
   "name": "python3"
  },
  "language_info": {
   "codemirror_mode": {
    "name": "ipython",
    "version": 3
   },
   "file_extension": ".py",
   "mimetype": "text/x-python",
   "name": "python",
   "nbconvert_exporter": "python",
   "pygments_lexer": "ipython3",
   "version": "3.7.6"
  }
 },
 "nbformat": 4,
 "nbformat_minor": 4
}
